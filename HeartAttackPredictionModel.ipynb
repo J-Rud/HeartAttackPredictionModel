{
 "cells": [
  {
   "cell_type": "markdown",
   "id": "3a446ce8-8c11-4d54-9bb1-31494ad78c27",
   "metadata": {},
   "source": [
    "# CS 439 - Introduction to Data Science\n",
    "### Spring 2025\n",
    "\n",
    "## Final Project: Heart Attack Risk Prediction Model"
   ]
  },
  {
   "cell_type": "markdown",
   "id": "7f1102d8-2f0d-4a3f-a6f8-5168b2706134",
   "metadata": {},
   "source": [
    "<div class=\"alert alert-block alert-info\">\n",
    "<b>Name</b>: Jake Rudnick<br>\n",
    "<b>Partner</b>: Divya Raizada<br> \n",
    "<b>NetIDs</b>: jpr200 and dr1102<br>\n",
    "<b>Recitation #</b>: 4<br>\n",
    "<b>IMPORTANT</b>\n",
    "I certify that this lab represents my own work and I have read the RU academic intergrity policies at<br>\n",
    "<a href=\"https://www.cs.rutgers.edu/academic-integrity/introduction\">https://www.cs.rutgers.edu/academic-integrity/introduction </a><br>\n",
    "<b>Initials</b>: JR"
   ]
  },
  {
   "cell_type": "markdown",
   "id": "2baf6330-4e53-43b3-bf37-12b8e5592d48",
   "metadata": {},
   "source": [
    "## Import Libraries"
   ]
  },
  {
   "cell_type": "code",
   "execution_count": 94,
   "id": "d301d1ce-7b0c-4d42-a2e0-8cd6d73a8f9f",
   "metadata": {},
   "outputs": [],
   "source": [
    "import pandas as pd\n",
    "import numpy as np\n",
    "import seaborn as sns\n",
    "import matplotlib.pyplot as plt\n",
    "from sklearn.model_selection import train_test_split\n",
    "from sklearn.linear_model import LogisticRegression\n",
    "from sklearn.preprocessing import StandardScaler, OneHotEncoder\n",
    "from sklearn.compose import ColumnTransformer\n",
    "from sklearn.pipeline import Pipeline\n",
    "from sklearn.metrics import accuracy_score, classification_report, confusion_matrix"
   ]
  },
  {
   "cell_type": "markdown",
   "id": "cf836d19-6ca8-4427-9076-6cf5faa81bbe",
   "metadata": {},
   "source": [
    "## Part 1: Preparing Data"
   ]
  },
  {
   "cell_type": "code",
   "execution_count": 84,
   "id": "3b7c882a-6eae-4722-9eb8-397f40916e03",
   "metadata": {},
   "outputs": [
    {
     "data": {
      "text/html": [
       "<div>\n",
       "<style scoped>\n",
       "    .dataframe tbody tr th:only-of-type {\n",
       "        vertical-align: middle;\n",
       "    }\n",
       "\n",
       "    .dataframe tbody tr th {\n",
       "        vertical-align: top;\n",
       "    }\n",
       "\n",
       "    .dataframe thead th {\n",
       "        text-align: right;\n",
       "    }\n",
       "</style>\n",
       "<table border=\"1\" class=\"dataframe\">\n",
       "  <thead>\n",
       "    <tr style=\"text-align: right;\">\n",
       "      <th></th>\n",
       "      <th>Age</th>\n",
       "      <th>Gender</th>\n",
       "      <th>Heart rate</th>\n",
       "      <th>Systolic blood pressure</th>\n",
       "      <th>Diastolic blood pressure</th>\n",
       "      <th>Blood sugar</th>\n",
       "      <th>CK-MB</th>\n",
       "      <th>Troponin</th>\n",
       "      <th>Result</th>\n",
       "    </tr>\n",
       "  </thead>\n",
       "  <tbody>\n",
       "    <tr>\n",
       "      <th>0</th>\n",
       "      <td>63</td>\n",
       "      <td>1</td>\n",
       "      <td>66</td>\n",
       "      <td>160</td>\n",
       "      <td>83</td>\n",
       "      <td>160.0</td>\n",
       "      <td>1.80</td>\n",
       "      <td>0.012</td>\n",
       "      <td>negative</td>\n",
       "    </tr>\n",
       "    <tr>\n",
       "      <th>1</th>\n",
       "      <td>20</td>\n",
       "      <td>1</td>\n",
       "      <td>94</td>\n",
       "      <td>98</td>\n",
       "      <td>46</td>\n",
       "      <td>296.0</td>\n",
       "      <td>6.75</td>\n",
       "      <td>1.060</td>\n",
       "      <td>positive</td>\n",
       "    </tr>\n",
       "    <tr>\n",
       "      <th>2</th>\n",
       "      <td>56</td>\n",
       "      <td>1</td>\n",
       "      <td>64</td>\n",
       "      <td>160</td>\n",
       "      <td>77</td>\n",
       "      <td>270.0</td>\n",
       "      <td>1.99</td>\n",
       "      <td>0.003</td>\n",
       "      <td>negative</td>\n",
       "    </tr>\n",
       "    <tr>\n",
       "      <th>3</th>\n",
       "      <td>66</td>\n",
       "      <td>1</td>\n",
       "      <td>70</td>\n",
       "      <td>120</td>\n",
       "      <td>55</td>\n",
       "      <td>270.0</td>\n",
       "      <td>13.87</td>\n",
       "      <td>0.122</td>\n",
       "      <td>positive</td>\n",
       "    </tr>\n",
       "    <tr>\n",
       "      <th>4</th>\n",
       "      <td>54</td>\n",
       "      <td>1</td>\n",
       "      <td>64</td>\n",
       "      <td>112</td>\n",
       "      <td>65</td>\n",
       "      <td>300.0</td>\n",
       "      <td>1.08</td>\n",
       "      <td>0.003</td>\n",
       "      <td>negative</td>\n",
       "    </tr>\n",
       "    <tr>\n",
       "      <th>...</th>\n",
       "      <td>...</td>\n",
       "      <td>...</td>\n",
       "      <td>...</td>\n",
       "      <td>...</td>\n",
       "      <td>...</td>\n",
       "      <td>...</td>\n",
       "      <td>...</td>\n",
       "      <td>...</td>\n",
       "      <td>...</td>\n",
       "    </tr>\n",
       "    <tr>\n",
       "      <th>1314</th>\n",
       "      <td>44</td>\n",
       "      <td>1</td>\n",
       "      <td>94</td>\n",
       "      <td>122</td>\n",
       "      <td>67</td>\n",
       "      <td>204.0</td>\n",
       "      <td>1.63</td>\n",
       "      <td>0.006</td>\n",
       "      <td>negative</td>\n",
       "    </tr>\n",
       "    <tr>\n",
       "      <th>1315</th>\n",
       "      <td>66</td>\n",
       "      <td>1</td>\n",
       "      <td>84</td>\n",
       "      <td>125</td>\n",
       "      <td>55</td>\n",
       "      <td>149.0</td>\n",
       "      <td>1.33</td>\n",
       "      <td>0.172</td>\n",
       "      <td>positive</td>\n",
       "    </tr>\n",
       "    <tr>\n",
       "      <th>1316</th>\n",
       "      <td>45</td>\n",
       "      <td>1</td>\n",
       "      <td>85</td>\n",
       "      <td>168</td>\n",
       "      <td>104</td>\n",
       "      <td>96.0</td>\n",
       "      <td>1.24</td>\n",
       "      <td>4.250</td>\n",
       "      <td>positive</td>\n",
       "    </tr>\n",
       "    <tr>\n",
       "      <th>1317</th>\n",
       "      <td>54</td>\n",
       "      <td>1</td>\n",
       "      <td>58</td>\n",
       "      <td>117</td>\n",
       "      <td>68</td>\n",
       "      <td>443.0</td>\n",
       "      <td>5.80</td>\n",
       "      <td>0.359</td>\n",
       "      <td>positive</td>\n",
       "    </tr>\n",
       "    <tr>\n",
       "      <th>1318</th>\n",
       "      <td>51</td>\n",
       "      <td>1</td>\n",
       "      <td>94</td>\n",
       "      <td>157</td>\n",
       "      <td>79</td>\n",
       "      <td>134.0</td>\n",
       "      <td>50.89</td>\n",
       "      <td>1.770</td>\n",
       "      <td>positive</td>\n",
       "    </tr>\n",
       "  </tbody>\n",
       "</table>\n",
       "<p>1319 rows × 9 columns</p>\n",
       "</div>"
      ],
      "text/plain": [
       "      Age  Gender  Heart rate  Systolic blood pressure  \\\n",
       "0      63       1          66                      160   \n",
       "1      20       1          94                       98   \n",
       "2      56       1          64                      160   \n",
       "3      66       1          70                      120   \n",
       "4      54       1          64                      112   \n",
       "...   ...     ...         ...                      ...   \n",
       "1314   44       1          94                      122   \n",
       "1315   66       1          84                      125   \n",
       "1316   45       1          85                      168   \n",
       "1317   54       1          58                      117   \n",
       "1318   51       1          94                      157   \n",
       "\n",
       "      Diastolic blood pressure  Blood sugar  CK-MB  Troponin    Result  \n",
       "0                           83        160.0   1.80     0.012  negative  \n",
       "1                           46        296.0   6.75     1.060  positive  \n",
       "2                           77        270.0   1.99     0.003  negative  \n",
       "3                           55        270.0  13.87     0.122  positive  \n",
       "4                           65        300.0   1.08     0.003  negative  \n",
       "...                        ...          ...    ...       ...       ...  \n",
       "1314                        67        204.0   1.63     0.006  negative  \n",
       "1315                        55        149.0   1.33     0.172  positive  \n",
       "1316                       104         96.0   1.24     4.250  positive  \n",
       "1317                        68        443.0   5.80     0.359  positive  \n",
       "1318                        79        134.0  50.89     1.770  positive  \n",
       "\n",
       "[1319 rows x 9 columns]"
      ]
     },
     "metadata": {},
     "output_type": "display_data"
    }
   ],
   "source": [
    "data = pd.read_csv(\"Medicaldataset.csv\")\n",
    "display(data)"
   ]
  },
  {
   "cell_type": "markdown",
   "id": "5e8e09a6-a061-46f9-921e-2b20dc66b4cc",
   "metadata": {},
   "source": [
    "### Interpretation"
   ]
  },
  {
   "cell_type": "markdown",
   "id": "a23fc49a-87a8-405d-9d79-c330e03f2aa4",
   "metadata": {},
   "source": [
    "This dataset is a collection of health-related information for 8763 patients, encompassing demographic factors, various health indicators, lifestyle habits, geographical information, and an assessment of their heart attack risk. It can be used to make various conclusions, some relating to what variables are strongly associated with heart attach risk, and others to predict a patient's risk on having a heart attack based on their characteristics.\n",
    "The presence of both controllable risk factors and non-modifiable risk factors makes this dataset valuable for a comprehensive understanding of heart health."
   ]
  },
  {
   "cell_type": "code",
   "execution_count": 96,
   "id": "4244bc73-5856-4873-b8b2-e9a31937d92c",
   "metadata": {},
   "outputs": [
    {
     "name": "stdout",
     "output_type": "stream",
     "text": [
      "Age                            0\n",
      "Gender                         0\n",
      "Heart rate                     0\n",
      "Systolic blood pressure        0\n",
      "Diastolic blood pressure       0\n",
      "Blood sugar                    0\n",
      "CK-MB                          0\n",
      "Troponin                       0\n",
      "Result                      1319\n",
      "dtype: int64\n"
     ]
    }
   ],
   "source": [
    "data.head()\n",
    "data['Result'] = data['Result'].map({'positive': 1, 'negative': 0})\n",
    "nan_values_per_column = data.isna().sum()\n",
    "print(nan_values_per_column)"
   ]
  },
  {
   "cell_type": "markdown",
   "id": "16cb6fa4-f7c9-4935-99f7-8bd5c521a780",
   "metadata": {},
   "source": [
    "## Part 2: Visualizing the Data"
   ]
  },
  {
   "cell_type": "code",
   "execution_count": 89,
   "id": "2200266b-85de-421b-aa28-3685383e84fe",
   "metadata": {},
   "outputs": [
    {
     "name": "stdout",
     "output_type": "stream",
     "text": [
      "103\n"
     ]
    },
    {
     "data": {
      "image/png": "[encoded data removed]",
      "text/plain": [
       "<Figure size 800x500 with 1 Axes>"
      ]
     },
     "metadata": {},
     "output_type": "display_data"
    }
   ],
   "source": [
    "#Age vs Heart Attack Result\n",
    "plt.figure(figsize=(8, 5))\n",
    "sns.boxplot(\n",
    "    x='Result', y='Age', hue='Result', data=data, palette='pastel', dodge=False\n",
    ")\n",
    "plt.title(\"Age by Heart Attack Result\")\n",
    "plt.xlabel(\"Heart Attack Result (0 = Negative, 1 = Positive)\")\n",
    "plt.ylabel(\"Age\")\n",
    "plt.tight_layout()\n",
    "plt.show()\n",
    "\n",
    "#Gender vs Heart Attack Result\n",
    "plt.figure(figsize=(8, 5))\n",
    "sns.countplot(x='Gender', hue='Result', data=data, palette='Set2')\n",
    "plt.title(\"Gender by Heart Attack Result\")\n",
    "plt.xlabel(\"Gender (0 = Female, 1 = Male)\")  # adjust if needed\n",
    "plt.ylabel(\"Count\")\n",
    "plt.legend(title=\"Result\")\n",
    "plt.tight_layout()\n",
    "plt.show()\n",
    "\n",
    "#Heart Rate vs. Heart Attack Result\n",
    "plt.figure(figsize=(8, 5))\n",
    "sns.boxplot(\n",
    "    x='Result', y='Heart rate', hue='Result', data=data, palette='pastel', dodge=False\n",
    ")\n",
    "plt.title(\"Heart Rate by Heart Attack Result\")\n",
    "plt.xlabel(\"Heart Attack Result (0 = Negative, 1 = Positive)\")\n",
    "plt.ylabel(\"Heart Rate (bpm)\")\n",
    "plt.tight_layout()\n",
    "plt.show()\n",
    "\n",
    "#Systolic Blood Pressure vs Result\n",
    "plt.figure(figsize=(8, 5))\n",
    "sns.boxplot(\n",
    "    x='Result', y='Systolic blood pressure', hue='Result', data=df, palette='pastel', dodge=False\n",
    ")\n",
    "plt.title(\"Systolic BP by Heart Attack Result\")\n",
    "plt.xlabel(\"Heart Attack Result\")\n",
    "plt.ylabel(\"Systolic Blood Pressure (mm Hg)\")\n",
    "plt.tight_layout()\n",
    "plt.show()\n",
    "\n",
    "#Diastolic Blood Pressure vs Heart Attack Result\n",
    "plt.figure(figsize=(8, 5))\n",
    "sns.boxplot(\n",
    "    x='Result', y='Diastolic blood pressure', hue='Result',data=df, palette='pastel', dodge=False\n",
    ")\n",
    "plt.title(\"Diastolic BP by Heart Attack Result\")\n",
    "plt.xlabel(\"Heart Attack Result (0 = Negative, 1 = Positive)\")\n",
    "plt.ylabel(\"Diastolic Blood Pressure (mm Hg)\")\n",
    "plt.tight_layout()\n",
    "plt.show()\n",
    "\n",
    "#Blood Sugar vs Heart Attack Result\n",
    "plt.figure(figsize=(8, 5))\n",
    "sns.boxplot(\n",
    "    x='Result', y='Blood sugar', hue='Result', data=df, palette='pastel', dodge=False\n",
    ")\n",
    "plt.title(\"Blood Sugar by Heart Attack Result\")\n",
    "plt.xlabel(\"Heart Attack Result (0 = Negative, 1 = Positive)\")\n",
    "plt.ylabel(\"Blood Sugar (mg/dL)\")\n",
    "plt.tight_layout()\n",
    "plt.show()\n",
    "\n",
    "#CK-MB vs Heart Attack Result\n",
    "plt.figure(figsize=(8, 5))\n",
    "sns.boxplot(\n",
    "    x='Result', y='CK-MB', hue='Result', data=df, palette='pastel', dodge=False\n",
    ")\n",
    "plt.title(\"CK-MB Levels by Heart Attack Result\")\n",
    "plt.xlabel(\"Heart Attack Result\")\n",
    "plt.ylabel(\"CK-MB (ng/mL)\")\n",
    "plt.tight_layout()\n",
    "plt.show()\n",
    "\n",
    "#Troponin\n",
    "plt.figure(figsize=(8, 5))\n",
    "sns.boxplot(\n",
    "    x='Result', y='Troponin', hue='Result', data=df, palette='pastel', dodge=False\n",
    ")\n",
    "plt.title(\"Troponin Levels by Heart Attack Result\")\n",
    "plt.xlabel(\"Heart Attack Result\")\n",
    "plt.ylabel(\"Troponin (ng/mL)\")\n",
    "plt.tight_layout()\n",
    "plt.show()\n"
   ]
  },
  {
   "cell_type": "markdown",
   "id": "8b38a820-2c50-4337-bfae-1d609db0c941",
   "metadata": {},
   "source": [
    "## Part 3: Building the Model"
   ]
  },
  {
   "cell_type": "code",
   "execution_count": 91,
   "id": "c2deb065-3ec3-4480-8984-ad44f12f0c3a",
   "metadata": {},
   "outputs": [],
   "source": [
    "#Separate the independent variables (features) and dependent variable (target)\n",
    "X = data.drop(columns=['Result'])\n",
    "y = data['Result']"
   ]
  },
  {
   "cell_type": "code",
   "execution_count": 95,
   "id": "f96c4114-4d28-4bfa-b5a4-32c3aee60a64",
   "metadata": {},
   "outputs": [
    {
     "name": "stdout",
     "output_type": "stream",
     "text": [
      "Training Accuracy: 0.8133\n",
      "Testing Accuracy: 0.7992\n"
     ]
    },
    {
     "data": {
      "image/png": "[encoded data removed]",
      "text/plain": [
       "<Figure size 800x600 with 2 Axes>"
      ]
     },
     "metadata": {},
     "output_type": "display_data"
    },
    {
     "name": "stdout",
     "output_type": "stream",
     "text": [
      "\n",
      "Confusion Matrix:\n",
      "[[ 70  31]\n",
      " [ 22 141]]\n"
     ]
    }
   ],
   "source": [
    "X_train, X_test, y_train, y_test = train_test_split(X, y, test_size=0.2, random_state=42)\n",
    "\n",
    "scaler = StandardScaler()\n",
    "X_train_scaled = scaler.fit_transform(X_train)\n",
    "X_test_scaled = scaler.transform(X_test)\n",
    "\n",
    "model = LogisticRegression(random_state=42)\n",
    "model.fit(X_train_scaled, y_train)\n",
    "\n",
    "y_train_pred = model.predict(X_train_scaled)\n",
    "y_test_pred = model.predict(X_test_scaled)\n",
    "\n",
    "train_accuracy = accuracy_score(y_train, y_train_pred)\n",
    "test_accuracy = accuracy_score(y_test, y_test_pred)\n",
    "\n",
    "print(f\"Training Accuracy: {train_accuracy:.4f}\")\n",
    "print(f\"Testing Accuracy: {test_accuracy:.4f}\")\n",
    "\n",
    "\n",
    "cm = confusion_matrix(y_test, y_test_pred)\n",
    "\n",
    "class_labels = np.unique(y)\n",
    "\n",
    "plt.figure(figsize=(8, 6))\n",
    "sns.heatmap(cm, annot=True, fmt='d', cmap='Blues',\n",
    "            xticklabels=class_labels, yticklabels=class_labels)\n",
    "plt.xlabel('Predicted Label')\n",
    "plt.ylabel('Actual Label')\n",
    "plt.title('Confusion Matrix')\n",
    "plt.show()\n",
    "\n",
    "print(\"\\nConfusion Matrix:\")\n",
    "print(cm)"
   ]
  },
  {
   "cell_type": "code",
   "execution_count": null,
   "id": "b01b1812-1156-48eb-bc71-e4ad2d3904c8",
   "metadata": {},
   "outputs": [],
   "source": []
  },
  {
   "cell_type": "code",
   "execution_count": null,
   "id": "faa5038b-f770-439d-a60d-d99f027fe305",
   "metadata": {},
   "outputs": [],
   "source": []
  },
  {
   "cell_type": "code",
   "execution_count": null,
   "id": "f8ca2ca8-6625-4160-bedd-ecd1f186064a",
   "metadata": {},
   "outputs": [],
   "source": []
  },
  {
   "cell_type": "code",
   "execution_count": null,
   "id": "41de0d38-927c-4181-ae22-013e92076a2d",
   "metadata": {},
   "outputs": [],
   "source": []
  },
  {
   "cell_type": "code",
   "execution_count": null,
   "id": "00aee31d-026a-43b3-8e95-6c365506f82c",
   "metadata": {},
   "outputs": [],
   "source": []
  }
 ],
 "metadata": {
  "kernelspec": {
   "display_name": "Python 3 (ipykernel)",
   "language": "python",
   "name": "python3"
  },
  "language_info": {
   "codemirror_mode": {
    "name": "ipython",
    "version": 3
   },
   "file_extension": ".py",
   "mimetype": "text/x-python",
   "name": "python",
   "nbconvert_exporter": "python",
   "pygments_lexer": "ipython3",
   "version": "3.12.7"
  }
 },
 "nbformat": 4,
 "nbformat_minor": 5
}
